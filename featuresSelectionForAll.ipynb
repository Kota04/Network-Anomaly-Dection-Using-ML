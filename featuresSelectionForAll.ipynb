{
 "cells": [
  {
   "cell_type": "code",
   "execution_count": null,
   "metadata": {},
   "outputs": [],
   "source": [
    "import numpy as np\n",
    "import os\n",
    "import pandas as pd\n",
    "import matplotlib.pyplot as plt\n",
    "from sklearn.ensemble import RandomForestRegressor\n",
    "import sklearn as sk"
   ]
  },
  {
   "cell_type": "code",
   "execution_count": null,
   "metadata": {},
   "outputs": [],
   "source": [
    "def folder(f_name):\n",
    "    try:\n",
    "        if not os.path.exists(f_name):\n",
    "            os.makedirs(f_name)\n",
    "    except OSError:\n",
    "        print(\"Error: Failed to create the directory.\")"
   ]
  },
  {
   "cell_type": "code",
   "execution_count": null,
   "metadata": {},
   "outputs": [],
   "source": [
    "main_labels=[\"Flow Duration\",\"Total Fwd Packets\",   \"Total Backward Packets\",\"Total Length of Fwd Packets\",\"Total Length of Bwd Packets\",\"Fwd Packet Length Max\",\"Fwd Packet Length Min\",\n",
    "   \"Fwd Packet Length Mean\",\"Fwd Packet Length Std\",\"Bwd Packet Length Max\",\"Bwd Packet Length Min\",\"Bwd Packet Length Mean\",\"Bwd Packet Length Std\",\n",
    "   \"Flow Bytes/s\",\"Flow Packets/s\",\"Flow IAT Mean\",\"Flow IAT Std\",\"Flow IAT Max\",\"Flow IAT Min\",\"Fwd IAT Total\",\"Fwd IAT Mean\",\"Fwd IAT Std\",\"Fwd IAT Max\",\n",
    "   \"Fwd IAT Min\",\"Bwd IAT Total\",\"Bwd IAT Mean\",\"Bwd IAT Std\",\"Bwd IAT Max\",\"Bwd IAT Min\",\"Fwd PSH Flags\",\"Bwd PSH Flags\",\"Fwd URG Flags\",\"Bwd URG Flags\",\n",
    "   \"Fwd Header Length\",\"Bwd Header Length\",\"Fwd Packets/s\",\"Bwd Packets/s\",\"Min Packet Length\",\"Max Packet Length\",\"Packet Length Mean\",\"Packet Length Std\",\n",
    "   \"Packet Length Variance\",\"FIN Flag Count\",\"SYN Flag Count\",\"RST Flag Count\",\"PSH Flag Count\",\"ACK Flag Count\",\"URG Flag Count\",\"CWE Flag Count\",\n",
    "   \"ECE Flag Count\",\"Down/Up Ratio\",\"Average Packet Size\",\"Avg Fwd Segment Size\",\"Avg Bwd Segment Size\",\"Fwd Avg Bytes/Bulk\",\n",
    "   \"Fwd Avg Packets/Bulk\",\"Fwd Avg Bulk Rate\",\"Bwd Avg Bytes/Bulk\",\"Bwd Avg Packets/Bulk\",\"Bwd Avg Bulk Rate\",\"Subflow Fwd Packets\",\"Subflow Fwd Bytes\",\n",
    "   \"Subflow Bwd Packets\",\"Subflow Bwd Bytes\",\"Init_Win_bytes_forward\",\"Init_Win_bytes_backward\",\"act_data_pkt_fwd\",\n",
    "   \"min_seg_size_forward\",\"Active Mean\",\"Active Std\",\"Active Max\",\"Active Min\",\n",
    "    \"Idle Mean\",\"Idle Std\",\"Idle Max\", \"Idle Min\",\"Label\"]"
   ]
  },
  {
   "cell_type": "code",
   "execution_count": null,
   "metadata": {},
   "outputs": [],
   "source": [
    "output_folder = \"./feature_pics/\"\n",
    "folder('./feature_pics/')"
   ]
  },
  {
   "cell_type": "code",
   "execution_count": null,
   "metadata": {},
   "outputs": [],
   "source": [
    "with open(\"importance_list_for_Data.csv\", \"w\") as importance_file:\n",
    "        df=pd.read_csv('./CSVs/all_data.csv',usecols=main_labels)\n",
    "        df[\"Label\"] = df[\"Label\"].apply(lambda x: 1 if x == \"BENIGN\" else 0)\n",
    "        y = df[\"Label\"].values\n",
    "        x = df.drop([\"Label\"], axis=1)\n",
    "        X=np.float32(x)\n",
    "        # Ensuring proper data types\n",
    "        X[np.isnan(X)] = 0\n",
    "        X[np.isinf(X)] = 0\n",
    "        ## Training the model\n",
    "        forest = RandomForestRegressor(n_estimators=250,random_state=0)\n",
    "        forest.fit(X,y)\n",
    "        ## Calculating Feature Importance\n",
    "        importances = forest.feature_importances_\n",
    "        std = np.std([tree.feature_importances_ for tree in forest.estimators_], axis=0)\n",
    "        indices = np.argsort(importances)[::-1]\n",
    "        ## Top 20 features\n",
    "        top_features = pd.DataFrame({\n",
    "            'Features': df.columns[indices[:20]],\n",
    "            'Importance': importances[indices[:20]]\n",
    "        }).sort_values('Importance', ascending=False).set_index('Features')\n",
    "\n",
    "        ## For plotting the graph\n",
    "        plt.figure(figsize=(10, 5))\n",
    "        top_features.plot(kind='bar')\n",
    "        plt.title(f\"{j[:-4]} Attack - Feature Importance\")\n",
    "        plt.ylabel('Importance')\n",
    "        plt.savefig(f\"{output_folder}{j[:-4]}.pdf\", bbox_inches='tight', format='pdf')\n",
    "        plt.close()\n",
    "\n",
    "        top_5_features = top_features.head(5).index.tolist()\n",
    "        importance_line = f\"{j[:-4]}={top_5_features}\\n\"\n",
    "        importance_file.write(importance_line)\n",
    "\n",
    "        print(f\"{j[:-4]} importance list:\")\n",
    "        print(top_features.head(20), \"\\n\")\n",
    "\n"
   ]
  }
 ],
 "metadata": {
  "language_info": {
   "name": "python"
  }
 },
 "nbformat": 4,
 "nbformat_minor": 2
}
