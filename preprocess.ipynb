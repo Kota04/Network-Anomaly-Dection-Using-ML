{
 "cells": [
  {
   "cell_type": "code",
   "execution_count": 29,
   "metadata": {},
   "outputs": [],
   "source": [
    "import pandas as pd\n",
    "import os\n",
    "from sklearn.preprocessing import LabelEncoder"
   ]
  },
  {
   "cell_type": "code",
   "execution_count": null,
   "metadata": {},
   "outputs": [],
   "source": [
    "import pandas as pd\n",
    "import os\n",
    "\n",
    "# List all CSV files in the 'CSVs' folder\n",
    "csv_files = os.listdir('./CSVs')\n",
    "\n",
    "# Initialize an empty list to store DataFrames\n",
    "dfs = []\n",
    "\n",
    "# Loop through each CSV file\n",
    "for file in csv_files:\n",
    "    # Check if the file is a CSV file\n",
    "    if file.endswith('.csv'):\n",
    "        # Read the CSV file into a DataFrame\n",
    "        df = pd.read_csv(os.path.join('./CSVs', file), encoding='latin1')  # Specify the encoding here\n",
    "        # Append DataFrame excluding the header if it's not the first DataFrame\n",
    "        if dfs:\n",
    "            dfs.append(df.iloc[1:])\n",
    "        else:\n",
    "            dfs.append(df)\n",
    "\n",
    "# Concatenate all DataFrames in the list along rows (axis=0)\n",
    "df = pd.concat(dfs, axis=0)\n",
    "\n",
    "# Reset index of the concatenated DataFrame\n",
    "df.reset_index(drop=True, inplace=True)\n",
    "\n",
    "# Display the shape of the concatenated DataFrame\n",
    "print(df.shape)\n"
   ]
  },
  {
   "cell_type": "code",
   "execution_count": 17,
   "metadata": {},
   "outputs": [
    {
     "name": "stdout",
     "output_type": "stream",
     "text": [
      "<class 'pandas.core.frame.DataFrame'>\n",
      "RangeIndex: 3119338 entries, 0 to 3119337\n",
      "Data columns (total 85 columns):\n",
      " #   Column                        Dtype  \n",
      "---  ------                        -----  \n",
      " 0   Flow ID                       object \n",
      " 1    Source IP                    object \n",
      " 2    Source Port                  float64\n",
      " 3    Destination IP               object \n",
      " 4    Destination Port             float64\n",
      " 5    Protocol                     float64\n",
      " 6    Timestamp                    object \n",
      " 7    Flow Duration                float64\n",
      " 8    Total Fwd Packets            float64\n",
      " 9    Total Backward Packets       float64\n",
      " 10  Total Length of Fwd Packets   float64\n",
      " 11   Total Length of Bwd Packets  float64\n",
      " 12   Fwd Packet Length Max        float64\n",
      " 13   Fwd Packet Length Min        float64\n",
      " 14   Fwd Packet Length Mean       float64\n",
      " 15   Fwd Packet Length Std        float64\n",
      " 16  Bwd Packet Length Max         float64\n",
      " 17   Bwd Packet Length Min        float64\n",
      " 18   Bwd Packet Length Mean       float64\n",
      " 19   Bwd Packet Length Std        float64\n",
      " 20  Flow Bytes/s                  float64\n",
      " 21   Flow Packets/s               float64\n",
      " 22   Flow IAT Mean                float64\n",
      " 23   Flow IAT Std                 float64\n",
      " 24   Flow IAT Max                 float64\n",
      " 25   Flow IAT Min                 float64\n",
      " 26  Fwd IAT Total                 float64\n",
      " 27   Fwd IAT Mean                 float64\n",
      " 28   Fwd IAT Std                  float64\n",
      " 29   Fwd IAT Max                  float64\n",
      " 30   Fwd IAT Min                  float64\n",
      " 31  Bwd IAT Total                 float64\n",
      " 32   Bwd IAT Mean                 float64\n",
      " 33   Bwd IAT Std                  float64\n",
      " 34   Bwd IAT Max                  float64\n",
      " 35   Bwd IAT Min                  float64\n",
      " 36  Fwd PSH Flags                 float64\n",
      " 37   Bwd PSH Flags                float64\n",
      " 38   Fwd URG Flags                float64\n",
      " 39   Bwd URG Flags                float64\n",
      " 40   Fwd Header Length            float64\n",
      " 41   Bwd Header Length            float64\n",
      " 42  Fwd Packets/s                 float64\n",
      " 43   Bwd Packets/s                float64\n",
      " 44   Min Packet Length            float64\n",
      " 45   Max Packet Length            float64\n",
      " 46   Packet Length Mean           float64\n",
      " 47   Packet Length Std            float64\n",
      " 48   Packet Length Variance       float64\n",
      " 49  FIN Flag Count                float64\n",
      " 50   SYN Flag Count               float64\n",
      " 51   RST Flag Count               float64\n",
      " 52   PSH Flag Count               float64\n",
      " 53   ACK Flag Count               float64\n",
      " 54   URG Flag Count               float64\n",
      " 55   CWE Flag Count               float64\n",
      " 56   ECE Flag Count               float64\n",
      " 57   Down/Up Ratio                float64\n",
      " 58   Average Packet Size          float64\n",
      " 59   Avg Fwd Segment Size         float64\n",
      " 60   Avg Bwd Segment Size         float64\n",
      " 61  Fwd Avg Bytes/Bulk            float64\n",
      " 62   Fwd Avg Packets/Bulk         float64\n",
      " 63   Fwd Avg Bulk Rate            float64\n",
      " 64   Bwd Avg Bytes/Bulk           float64\n",
      " 65   Bwd Avg Packets/Bulk         float64\n",
      " 66  Bwd Avg Bulk Rate             float64\n",
      " 67  Subflow Fwd Packets           float64\n",
      " 68   Subflow Fwd Bytes            float64\n",
      " 69   Subflow Bwd Packets          float64\n",
      " 70   Subflow Bwd Bytes            float64\n",
      " 71  Init_Win_bytes_forward        float64\n",
      " 72   Init_Win_bytes_backward      float64\n",
      " 73   act_data_pkt_fwd             float64\n",
      " 74   min_seg_size_forward         float64\n",
      " 75  Active Mean                   float64\n",
      " 76   Active Std                   float64\n",
      " 77   Active Max                   float64\n",
      " 78   Active Min                   float64\n",
      " 79  Idle Mean                     float64\n",
      " 80   Idle Std                     float64\n",
      " 81   Idle Max                     float64\n",
      " 82   Idle Min                     float64\n",
      " 83   Label                        object \n",
      " 84  External IP                   object \n",
      "dtypes: float64(79), object(6)\n",
      "memory usage: 2.0+ GB\n"
     ]
    }
   ],
   "source": [
    "df.info()"
   ]
  },
  {
   "cell_type": "markdown",
   "metadata": {},
   "source": [
    "#### Column 61 and 42 are the same so delete one of it"
   ]
  },
  {
   "cell_type": "code",
   "execution_count": 13,
   "metadata": {},
   "outputs": [],
   "source": [
    "df.drop(columns=[' Fwd Header Length.1'],inplace=True)"
   ]
  },
  {
   "cell_type": "code",
   "execution_count": 18,
   "metadata": {},
   "outputs": [
    {
     "name": "stdout",
     "output_type": "stream",
     "text": [
      " Label\n",
      "BENIGN                        2359282\n",
      "DoS Hulk                       231073\n",
      "PortScan                       158930\n",
      "DDoS                            41835\n",
      "DoS GoldenEye                   10293\n",
      "FTP-Patator                      7938\n",
      "SSH-Patator                      5897\n",
      "DoS slowloris                    5796\n",
      "DoS Slowhttptest                 5499\n",
      "Bot                              1966\n",
      "Web Attack  Brute Force         1507\n",
      "Web Attack  XSS                  652\n",
      "Infiltration                       36\n",
      "Web Attack  Sql Injection         21\n",
      "Heartbleed                         11\n",
      "Name: count, dtype: int64\n"
     ]
    }
   ],
   "source": [
    "print(df[' Label'].value_counts())"
   ]
  },
  {
   "cell_type": "markdown",
   "metadata": {},
   "source": [
    "#### checking the Null values"
   ]
  },
  {
   "cell_type": "code",
   "execution_count": 19,
   "metadata": {},
   "outputs": [
    {
     "name": "stdout",
     "output_type": "stream",
     "text": [
      "Flow ID               288602\n",
      " Source IP            288602\n",
      " Source Port          288602\n",
      " Destination IP       288602\n",
      " Destination Port     288602\n",
      "                      ...   \n",
      " Idle Std             288602\n",
      " Idle Max             288602\n",
      " Idle Min             288602\n",
      " Label                288602\n",
      "External IP          3077502\n",
      "Length: 85, dtype: int64\n"
     ]
    }
   ],
   "source": [
    "print(df.isna().sum())"
   ]
  },
  {
   "cell_type": "code",
   "execution_count": 21,
   "metadata": {},
   "outputs": [
    {
     "name": "stdout",
     "output_type": "stream",
     "text": [
      "Categorical variables:\n",
      "['Flow ID', ' Source IP', ' Destination IP', ' Timestamp', ' Label', 'External IP']\n"
     ]
    }
   ],
   "source": [
    "categorical = (df.dtypes == \"object\")\n",
    "categorical_list = list(categorical[categorical].index)\n",
    "\n",
    "print(\"Categorical variables:\")\n",
    "print(categorical_list)"
   ]
  },
  {
   "cell_type": "code",
   "execution_count": 24,
   "metadata": {},
   "outputs": [
    {
     "name": "stdout",
     "output_type": "stream",
     "text": [
      "289960\n"
     ]
    }
   ],
   "source": [
    "print(df['Flow Bytes/s'].isna().sum())"
   ]
  },
  {
   "cell_type": "code",
   "execution_count": 30,
   "metadata": {},
   "outputs": [],
   "source": [
    "label_encoder=LabelEncoder()\n",
    "for i in categorical_list:\n",
    "    if i != ' Label':\n",
    "        df[i] = label_encoder.fit_transform(df[i])\n"
   ]
  },
  {
   "cell_type": "code",
   "execution_count": 31,
   "metadata": {},
   "outputs": [
    {
     "name": "stdout",
     "output_type": "stream",
     "text": [
      "<class 'pandas.core.frame.DataFrame'>\n",
      "RangeIndex: 3119338 entries, 0 to 3119337\n",
      "Data columns (total 85 columns):\n",
      " #   Column                        Dtype  \n",
      "---  ------                        -----  \n",
      " 0   Flow ID                       int64  \n",
      " 1    Source IP                    int64  \n",
      " 2    Source Port                  float64\n",
      " 3    Destination IP               int64  \n",
      " 4    Destination Port             float64\n",
      " 5    Protocol                     float64\n",
      " 6    Timestamp                    int64  \n",
      " 7    Flow Duration                float64\n",
      " 8    Total Fwd Packets            float64\n",
      " 9    Total Backward Packets       float64\n",
      " 10  Total Length of Fwd Packets   float64\n",
      " 11   Total Length of Bwd Packets  float64\n",
      " 12   Fwd Packet Length Max        float64\n",
      " 13   Fwd Packet Length Min        float64\n",
      " 14   Fwd Packet Length Mean       float64\n",
      " 15   Fwd Packet Length Std        float64\n",
      " 16  Bwd Packet Length Max         float64\n",
      " 17   Bwd Packet Length Min        float64\n",
      " 18   Bwd Packet Length Mean       float64\n",
      " 19   Bwd Packet Length Std        float64\n",
      " 20  Flow Bytes/s                  float64\n",
      " 21   Flow Packets/s               float64\n",
      " 22   Flow IAT Mean                float64\n",
      " 23   Flow IAT Std                 float64\n",
      " 24   Flow IAT Max                 float64\n",
      " 25   Flow IAT Min                 float64\n",
      " 26  Fwd IAT Total                 float64\n",
      " 27   Fwd IAT Mean                 float64\n",
      " 28   Fwd IAT Std                  float64\n",
      " 29   Fwd IAT Max                  float64\n",
      " 30   Fwd IAT Min                  float64\n",
      " 31  Bwd IAT Total                 float64\n",
      " 32   Bwd IAT Mean                 float64\n",
      " 33   Bwd IAT Std                  float64\n",
      " 34   Bwd IAT Max                  float64\n",
      " 35   Bwd IAT Min                  float64\n",
      " 36  Fwd PSH Flags                 float64\n",
      " 37   Bwd PSH Flags                float64\n",
      " 38   Fwd URG Flags                float64\n",
      " 39   Bwd URG Flags                float64\n",
      " 40   Fwd Header Length            float64\n",
      " 41   Bwd Header Length            float64\n",
      " 42  Fwd Packets/s                 float64\n",
      " 43   Bwd Packets/s                float64\n",
      " 44   Min Packet Length            float64\n",
      " 45   Max Packet Length            float64\n",
      " 46   Packet Length Mean           float64\n",
      " 47   Packet Length Std            float64\n",
      " 48   Packet Length Variance       float64\n",
      " 49  FIN Flag Count                float64\n",
      " 50   SYN Flag Count               float64\n",
      " 51   RST Flag Count               float64\n",
      " 52   PSH Flag Count               float64\n",
      " 53   ACK Flag Count               float64\n",
      " 54   URG Flag Count               float64\n",
      " 55   CWE Flag Count               float64\n",
      " 56   ECE Flag Count               float64\n",
      " 57   Down/Up Ratio                float64\n",
      " 58   Average Packet Size          float64\n",
      " 59   Avg Fwd Segment Size         float64\n",
      " 60   Avg Bwd Segment Size         float64\n",
      " 61  Fwd Avg Bytes/Bulk            float64\n",
      " 62   Fwd Avg Packets/Bulk         float64\n",
      " 63   Fwd Avg Bulk Rate            float64\n",
      " 64   Bwd Avg Bytes/Bulk           float64\n",
      " 65   Bwd Avg Packets/Bulk         float64\n",
      " 66  Bwd Avg Bulk Rate             float64\n",
      " 67  Subflow Fwd Packets           float64\n",
      " 68   Subflow Fwd Bytes            float64\n",
      " 69   Subflow Bwd Packets          float64\n",
      " 70   Subflow Bwd Bytes            float64\n",
      " 71  Init_Win_bytes_forward        float64\n",
      " 72   Init_Win_bytes_backward      float64\n",
      " 73   act_data_pkt_fwd             float64\n",
      " 74   min_seg_size_forward         float64\n",
      " 75  Active Mean                   float64\n",
      " 76   Active Std                   float64\n",
      " 77   Active Max                   float64\n",
      " 78   Active Min                   float64\n",
      " 79  Idle Mean                     float64\n",
      " 80   Idle Std                     float64\n",
      " 81   Idle Max                     float64\n",
      " 82   Idle Min                     float64\n",
      " 83   Label                        object \n",
      " 84  External IP                   int64  \n",
      "dtypes: float64(79), int64(5), object(1)\n",
      "memory usage: 2.0+ GB\n"
     ]
    }
   ],
   "source": [
    "df.info()"
   ]
  },
  {
   "cell_type": "code",
   "execution_count": 32,
   "metadata": {},
   "outputs": [],
   "source": [
    "# Handling the Null values of the \"Flow Bytes/s\" and \" Flow Packets/s\" \n",
    "\n",
    "df[\"Flow Bytes/s\"] = df[\"Flow Bytes/s\"].replace(\"Infinity\", -1)\n",
    "df[\" Flow Packets/s\"] = df[\" Flow Packets/s\"].replace(\"Infinity\", -1)\n",
    "df[\"Flow Bytes/s\"] = df[\"Flow Bytes/s\"].replace(\"NaN\", 0)\n",
    "df[\" Flow Packets/s\"] = df[\" Flow Packets/s\"].replace(\"NaN\", 0)"
   ]
  },
  {
   "cell_type": "code",
   "execution_count": 33,
   "metadata": {},
   "outputs": [],
   "source": [
    "df.to_csv('./CSVs/alldata.csv',index=False)"
   ]
  },
  {
   "cell_type": "code",
   "execution_count": null,
   "metadata": {},
   "outputs": [],
   "source": []
  }
 ],
 "metadata": {
  "kernelspec": {
   "display_name": "Python 3 (ipykernel)",
   "language": "python",
   "name": "python3"
  },
  "language_info": {
   "codemirror_mode": {
    "name": "ipython",
    "version": 3
   },
   "file_extension": ".py",
   "mimetype": "text/x-python",
   "name": "python",
   "nbconvert_exporter": "python",
   "pygments_lexer": "ipython3",
   "version": "3.11.2"
  }
 },
 "nbformat": 4,
 "nbformat_minor": 2
}
